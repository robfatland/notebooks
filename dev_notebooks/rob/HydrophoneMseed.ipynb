{
 "cells": [
  {
   "cell_type": "markdown",
   "metadata": {},
   "source": [
    "https://rawdata.oceanobservatories.org/files/RS03AXPS/PC03A/08-HYDBBA303/2018/03/10/"
   ]
  },
  {
   "cell_type": "code",
   "execution_count": 1,
   "metadata": {},
   "outputs": [],
   "source": [
    "from obspy import read\n",
    "from obspy.core import UTCDateTime\n",
    "import numpy as np\n",
    "from matplotlib import mlab\n",
    "from matplotlib.colors import Normalize\n",
    "import matplotlib.pyplot as plt\n",
    "import math as M\n",
    "import matplotlib\n",
    "import requests\n",
    "from lxml import html\n",
    "import os\n",
    "import boto3"
   ]
  },
  {
   "cell_type": "markdown",
   "metadata": {},
   "source": [
    "__Preprossesing file an pushing to S3__"
   ]
  },
  {
   "cell_type": "code",
   "execution_count": 2,
   "metadata": {},
   "outputs": [],
   "source": [
    "# web craweler\n",
    "mainurl = 'https://rawdata.oceanobservatories.org/files/RS01SLBS/LJ01A/09-HYDBBA102/2017/10/06/'\n",
    "mainurlpage = requests.get(mainurl)\n",
    "webpage = html.fromstring(mainurlpage.content)\n",
    "suburl = webpage.xpath('//a/@href')\n",
    "\n",
    "# FileNum = len(suburl)\n",
    "FileNum = 8\n",
    "\n",
    "data_url_list = []\n",
    "for filename in suburl[6:FileNum]:\n",
    "    data_url_list.append(str(mainurl + filename[2:]))"
   ]
  },
  {
   "cell_type": "code",
   "execution_count": 3,
   "metadata": {},
   "outputs": [
    {
     "name": "stdout",
     "output_type": "stream",
     "text": [
      "<Response [200]>\n",
      "['https://rawdata.oceanobservatories.org/files/RS01SLBS/LJ01A/09-HYDBBA102/2017/10/06/OO-HYVM1--YDH-2017-10-06T00:00:00.000000.mseed', 'https://rawdata.oceanobservatories.org/files/RS01SLBS/LJ01A/09-HYDBBA102/2017/10/06/OO-HYVM1--YDH-2017-10-06T00:05:00.000000.mseed']\n"
     ]
    }
   ],
   "source": [
    "print(mainurlpage)\n",
    "print(data_url_list)"
   ]
  },
  {
   "cell_type": "code",
   "execution_count": null,
   "metadata": {},
   "outputs": [],
   "source": [
    "#provide requisite credential to access S3 bucket\n",
    "client = boto3.client('s3')\n",
    "\n",
    "for data_url in data_url_list:\n",
    "    stream = read(data_url)         # Read from url\n",
    "    samp_rate = stream[0].stats.sampling_rate\n",
    "    t_start = stream[0].stats.starttime\n",
    "    t_end = stream[0].stats.endtime\n",
    "    duration = t_end-t_start\n",
    "\n",
    "    # Ping Detections\n",
    "\n",
    "    pingtimes = np.zeros(int(duration)-1)\n",
    "    for stratpoint in range(int(duration)-1):\n",
    "        pingindex = np.argmax(stream[0].data[int(stratpoint * samp_rate):int((stratpoint + 1) * samp_rate)])\n",
    "        pingtimes[stratpoint] = (t_start + stratpoint + pingindex * stream[0].stats.delta)\n",
    "\n",
    "    # Filter Data+Plot Spectrogram+Save Image and Audio \n",
    "\n",
    "    def _nearest_pow_2(x):\n",
    "\n",
    "        a = M.pow(2, M.ceil(np.log2(x)))\n",
    "        b = M.pow(2, M.floor(np.log2(x)))\n",
    "        if abs(a - x) < abs(b - x):\n",
    "            return a\n",
    "        else:\n",
    "            return b\n",
    "    step_size = 5 # for calculating the rms pressure and ploting the spectrogtam \n",
    "    wlen = 0.056;  # bin size in sec \n",
    "    nfft = int(_nearest_pow_2(wlen * samp_rate))  # number of fft points of each bin\n",
    "    per_lap = 0.995      # percentage of overlap\n",
    "    nlap = int(nfft * np.floating(per_lap))   # number of overlapped samples\n",
    "\n",
    "    timestep = 5 #save results every 5 seconds (no overlap)\n",
    "\n",
    "    for i in range(0, len(pingtimes), timestep):\n",
    "        st = stream.slice(UTCDateTime(pingtimes[i]), UTCDateTime(pingtimes[i]) + step_size)\n",
    "        trace = st[0].copy()\n",
    "        # Plot Spectrogram\n",
    "        npts = len(st[0])\n",
    "        end = npts / samp_rate\n",
    "        # using mlab to create the array of spectrogram \n",
    "        specgram, freq, time = mlab.specgram(trace.data/1e-6,NFFT = nfft,Fs = samp_rate,noverlap = nlap, pad_to = None)\n",
    "        specgram = 10 * np.log10(specgram[1:, :])\n",
    "        specgram = np.flipud(specgram)\n",
    "        freq = freq[1:] / 1e3  # Convert Frequency to kHz\n",
    "        halfbin_time = (time[1] - time[0]) / 2.0\n",
    "        halfbin_freq = (freq[1] - freq[0]) / 2.0\n",
    "        freq = np.concatenate((freq, [freq[-1] + 2 * halfbin_freq]))\n",
    "        time = np.concatenate((time, [time[-1] + 2 * halfbin_time]))\n",
    "        extent = (time[0] - halfbin_time, time[-1] + halfbin_time,\n",
    "                      freq[0] - halfbin_freq, freq[-1] + halfbin_freq)\n",
    "        # colormap setting\n",
    "        vmin = 0.50  # default should be 0 to start from the min number of the spectrgram\n",
    "        vmax = 0.95  # default should be 1 to end at the max number of the spectrgram\n",
    "        _range = np.floating(specgram.max() - specgram.min())\n",
    "        vmin = specgram.min() + vmin * _range\n",
    "        vmax = specgram.min() + vmax * _range\n",
    "        norm = Normalize(vmin, vmax)  # to scale a 2-D float X input to the (0, 1) range for input to the cmap\n",
    "\n",
    "#         # plot spectrogram\n",
    "#         fig = plt.figure(figsize=(8,8))\n",
    "#         ax = fig.add_subplot(111)\n",
    "#         cax = ax.imshow(specgram, interpolation=\"nearest\", extent=extent, norm=norm, cmap='viridis')\n",
    "#         dpi = fig.get_dpi()\n",
    "#         fig.set_size_inches(512/np.floating(dpi),512/np.floating(dpi))\n",
    "#         ax.axis('tight')\n",
    "#         ax.set_xlim(0, end)\n",
    "#         ax.set_ylim(0,11)\n",
    "#         ax.grid(False)\n",
    "#         ax.set_xlabel('Time [s]')\n",
    "#         ax.set_ylabel('Frequency [kHz]')\n",
    "\n",
    "        # Save spectrogram\n",
    "        fig = plt.figure(frameon=False, figsize=(8,8))\n",
    "        ax = plt.Axes(fig, [0., 0., 1., 1.])\n",
    "        ax.set_axis_off()\n",
    "        fig.add_axes(ax)\n",
    "\n",
    "        cax = ax.imshow(specgram, interpolation=\"nearest\", extent=extent, norm=norm, cmap='viridis')\n",
    "        dpi = fig.get_dpi()\n",
    "        fig.set_size_inches(512/np.floating(dpi),512/np.floating(dpi))\n",
    "        ax.axis('tight')\n",
    "        ax.set_xlim(0, end)\n",
    "        ax.set_ylim(0,11)\n",
    "        ax.grid(False)\n",
    "        ax.set_xlabel('Time [s]')\n",
    "        ax.set_ylabel('Frequency [kHz]')\n",
    "        filename = st[0].stats.network+'_'+st[0].stats.station+'_'+st[0].stats.location+'_'+st[0].stats.channel+'_'+str(UTCDateTime(pingtimes[i])).replace(\"-\",\"_\").replace(\":\",\"_\")\n",
    "        plt.savefig(filename[:-8] + '.jpg')\n",
    "        # client.upload_file(filename[:-8] + '.jpg', 'himatdata', 'cavatest/'+ filename[:-8] + '.jpg')\n",
    "        # os.remove(filename[:-8] + '.jpg')\n",
    "        plt.clf()\n",
    "        plt.close(fig)\n",
    "        \n",
    "\n",
    "        #save audio\n",
    "        def Save2Wav(sound):\n",
    "            sound = sound.copy()\n",
    "            sound.normalize()\n",
    "            sound.data = (sound.data * (2**31-1)).astype('int32')\n",
    "            sound.write(filename[:-8] + '.wav', format = 'WAV', framerate = samp_rate)\n",
    "        Save2Wav(st[0])\n",
    "        # client.upload_file(filename[:-8] + '.wav', 'himatdata', 'cavatest/'+ filename[:-8] + '.wav')\n",
    "        # os.remove(filename[:-8] + '.wav')"
   ]
  },
  {
   "cell_type": "markdown",
   "metadata": {
    "collapsed": true
   },
   "source": [
    "__Accessing File from S3 to local__"
   ]
  },
  {
   "cell_type": "code",
   "execution_count": null,
   "metadata": {},
   "outputs": [],
   "source": [
    "# Access 5 Spectogram from S3\n",
    "s3 = boto3.resource('s3')\n",
    "bucket = s3.Bucket('himatdata')\n",
    "home = os.getcwd()\n",
    "i = 0\n",
    "for obj in bucket.objects.filter(Delimiter='', Prefix='whaledr_renamed/OO_HYVM1'):\n",
    "    i += 1\n",
    "    if i < 10:\n",
    "        if obj.key.endswith('.jpg'):\n",
    "            bucket.download_file(obj.key,os.path.join(os.path.join(home,obj.key[16:])))\n",
    "    else:\n",
    "        break"
   ]
  },
  {
   "cell_type": "code",
   "execution_count": null,
   "metadata": {},
   "outputs": [],
   "source": []
  }
 ],
 "metadata": {
  "kernelspec": {
   "display_name": "Python (dev)",
   "language": "python",
   "name": "dev"
  },
  "language_info": {
   "codemirror_mode": {
    "name": "ipython",
    "version": 3
   },
   "file_extension": ".py",
   "mimetype": "text/x-python",
   "name": "python",
   "nbconvert_exporter": "python",
   "pygments_lexer": "ipython3",
   "version": "3.6.5"
  }
 },
 "nbformat": 4,
 "nbformat_minor": 2
}
